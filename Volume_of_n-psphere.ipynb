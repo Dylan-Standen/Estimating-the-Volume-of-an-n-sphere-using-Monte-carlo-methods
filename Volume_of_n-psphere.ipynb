{
  "metadata": {
    "kernelspec": {
      "name": "python",
      "display_name": "Python (Pyodide)",
      "language": "python"
    },
    "language_info": {
      "codemirror_mode": {
        "name": "python",
        "version": 3
      },
      "file_extension": ".py",
      "mimetype": "text/x-python",
      "name": "python",
      "nbconvert_exporter": "python",
      "pygments_lexer": "ipython3",
      "version": "3.8"
    }
  },
  "nbformat_minor": 5,
  "nbformat": 4,
  "cells": [
    {
      "id": "26d21286-b866-4a84-830c-ca39208c74db",
      "cell_type": "code",
      "source": "import numpy as np\nfrom math import pi\nfrom scipy.special import gamma \nimport matplotlib.pyplot as plt\n\ndef nsphere(n, N, seed):\n    \"\"\"This function takes two arguments: the dimension of sphere n (int), N (int) the number of sample points in the [-1.1]^n cube, and an RNG seed (int) for reproducability.\n    \n       It then returns a single float value. Which is the estimated volume of the sphere. \n    \"\"\"\n    rng = np.random.default_rng(seed)\n    x = np.random.uniform(-1,1, (N,n))\n    n_sphere = (np.sum(x**2, axis = 1) <= 1)\n    n_cube = 2**n\n    sphere_mean = n_sphere.mean()\n    est_volume = n_cube*sphere_mean\n    \n    return est_volume \n\n\ndef exactvol(n):\n    \"\"\" This is the simple analytic function describing the volume of an n-dim sphere. Its closed form requires the Gamma function.\"\"\"\n    \n    return pi**(n/2) / gamma(n/2 + 1)\n   \n\n\ndef SD(n,N, seed):\n    \"\"\" This computes the standard deviation in the estimated volume \n    \n        using the typical variance formula for a Bernoulli random variable.\"\"\"\n    rng = np.random.default_rng(seed)\n    x = np.random.uniform(-1,1, (N,n))\n    n_sphere = (np.sum(x**2, axis = 1) <= 1)\n    sphere_mean = n_sphere.mean()\n    return  2**n * np.sqrt(sphere_mean*(1- sphere_mean)/N)\n\n\n#Lets make a graph\ndims = list(range(1,25)) #testing accuracy up to dim = 25\nerrs = [SD(l, 100000, 42) for l in dims] #error bars\nN_x = [N for N in range(100000, 102000)]\n\n\ny_vals_monte = [nsphere(j,100000, seed = 42) for j in dims] #estimated\ny_vals_exact = [exactvol(k) for k in dims] #exact\ny_vals_error = [SD(m,100000, seed = 42) for m in dims]\n\ny_error_decay_5 = [SD(5, N, 42) for N in N_x]\ny_error_decay_10 = [SD(10, N, 42) for N in N_x]\ny_error_decay_12 = [SD(12, N, 42) for N in N_x]\n\n\n\n#plotting\nplt.figure(1)\nplt.errorbar(dims, y_vals_monte, yerr = errs, fmt='o', capsize=4, label=\"Monte Carlo\")\nplt.scatter(dims, y_vals_exact, label=\"Exact Volume\", color=\"orange\")\nplt.xlabel(\"Dimension, n\")\nplt.ylabel(\"Volume of unit n-sphere\")\nplt.legend()\nplt.tight_layout()\nplt.ylim(bottom = 0)\n\n\nplt.figure(2)\nplt.plot(N_x, y_error_decay_5, label = \"n = 5\", color = \"red\")\nplt.plot(N_x, y_error_decay_10, label = \"n = 10\", color = \"blue\")\nplt.plot(N_x, y_error_decay_12, label = \"n = 12\", color = \"green\")\nplt.xlabel(\"Number of Points, N\")\nplt.ylabel(\"Standard Error\")\nplt.legend()\nplt.tight_layout()\n\n\nplt.figure(3)\nNs = [100, 300, 1000, 3000, 10000, 30000, 100000]\nn = 10   # pick a dimension\ntrials = 50\nemp_err = []\n\nfor N in Ns:\n    estimates = [nsphere(n, N, np.random.default_rng()) for _ in range(trials)]\n    emp_err.append(np.std(estimates, ddof=1))\n\nplt.loglog(Ns, emp_err, 'o-', label=\"Empirical error\")\nplt.loglog(Ns, emp_err[0]*(np.array(Ns[0])/np.array(Ns))**0.5, '--', label=\"~ N^{-1/2}\")\nplt.xlabel(\"N (log scale)\")\nplt.ylabel(\"Error (log scale)\")\nplt.legend()\n\n\n\n\n\nplt.show()\n\n        \n\n\n",
      "metadata": {
        "trusted": true
      },
      "outputs": [],
      "execution_count": null
    },
    {
      "id": "79ed2709-8498-4fd7-8227-37dc76550e5a",
      "cell_type": "markdown",
      "source": "# ",
      "metadata": {}
    },
    {
      "id": "a68d792e-6227-44a2-b83f-0668475d235b",
      "cell_type": "code",
      "source": "",
      "metadata": {
        "trusted": true
      },
      "outputs": [],
      "execution_count": null
    },
    {
      "id": "b2eceb1a-4ec9-4189-adda-25af565f6780",
      "cell_type": "code",
      "source": "",
      "metadata": {
        "trusted": true
      },
      "outputs": [],
      "execution_count": null
    },
    {
      "id": "49ba45e5-7bfc-4405-8770-1d023b8d68c4",
      "cell_type": "code",
      "source": "",
      "metadata": {
        "trusted": true
      },
      "outputs": [],
      "execution_count": null
    }
  ]
}